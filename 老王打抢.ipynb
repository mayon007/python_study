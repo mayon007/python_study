{
 "cells": [
  {
   "cell_type": "code",
   "execution_count": null,
   "metadata": {},
   "outputs": [],
   "source": [
    "'''\n",
    "需要定义三个类：\n",
    "    1. 人类\n",
    "    属性\n",
    "        姓名\n",
    "        血量\n",
    "        持有的枪\n",
    "    方法\n",
    "        安子弹\n",
    "        安弹夹\n",
    "        拿枪（持有抢）\n",
    "        开枪\n",
    "    2. 子弹类\n",
    "    属性\n",
    "        杀伤力\n",
    "    方法\n",
    "        伤害敌人(让敌人掉血)\n",
    "    3. 弹夹类\n",
    "    属性\n",
    "        容量（子弹存储的最大值）\n",
    "        当前保存的子弹\n",
    "    方法\n",
    "        保存子弹（安装子弹的时候）\n",
    "        弹出子弹（开枪的时候）\n",
    "    4. 枪类\n",
    "    属性\n",
    "        弹夹（默认没有弹夹，需要安装）\n",
    "    方法\n",
    "        连接弹夹（保存弹夹）\n",
    "        射子弹\n",
    "'''"
   ]
  }
 ],
 "metadata": {
  "kernelspec": {
   "display_name": "Python 2",
   "language": "python",
   "name": "python2"
  },
  "language_info": {
   "codemirror_mode": {
    "name": "ipython",
    "version": 2
   },
   "file_extension": ".py",
   "mimetype": "text/x-python",
   "name": "python",
   "nbconvert_exporter": "python",
   "pygments_lexer": "ipython2",
   "version": "2.7.12"
  }
 },
 "nbformat": 4,
 "nbformat_minor": 2
}
