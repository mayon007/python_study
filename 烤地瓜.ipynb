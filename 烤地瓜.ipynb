{
 "cells": [
  {
   "cell_type": "code",
   "execution_count": 10,
   "metadata": {},
   "outputs": [
    {
     "name": "stdout",
     "output_type": "stream",
     "text": [
      "0\n",
      "生的\n",
      "[]\n",
      "====下面开始烤地瓜了====\n",
      "4\n",
      "半生不熟\n",
      "[]\n",
      "半生不熟\n"
     ]
    }
   ],
   "source": [
    "#cookedLevel\t:\t这是数字;0~3表示还是生的,超过3表示半生不熟,超过\n",
    "#5表示已经烤好了,超过8表示已经烤成木炭了!我们的地瓜开始时时生\n",
    "#的\n",
    "#cookedString\t:\t这是字符串;描述地瓜的生熟程度\n",
    "#condiments\t:\t这是地瓜的配料列表,比如番茄酱、芥末酱等\n",
    "\n",
    "class SweetPotato:\n",
    "    def __init__(self):\n",
    "        self.cookedLevel = 0\n",
    "        self.cookedString =\"生的\"\n",
    "        self.condiments = []\n",
    "    def addCondiments(self,newCondiments):\n",
    "        self.condiments.append(newCondiments)\n",
    "        \n",
    "    def cook(self,time):\n",
    "        self.cookedLevel += time\n",
    "        \n",
    "        if self.cookedLevel <= 3:\n",
    "            self.cookedString = \"生的\"\n",
    "        elif self.cookedLevel < 5:\n",
    "            self.cookedString = \"半生不熟\"\n",
    "        elif self.cookedLevel <= 8:\n",
    "            self.cookString = \"OK\"\n",
    "        else: \n",
    "            self.cookString = \"烤糊了\"\n",
    "        \n",
    "    def __str__(self):\n",
    "        if len(self.condiments) >0:\n",
    "            \n",
    "        return self.cookedString\n",
    "    \n",
    "    #test\n",
    "    mySweetPotato = SweetPotato()\n",
    "    print(mySweetPotato.cookedLevel)\n",
    "    print(mySweetPotato.cookedString)\n",
    "    print(mySweetPotato.condiments)\n",
    "    \n",
    "    print(\"====下面开始烤地瓜了====\")\n",
    "    mySweetPotato.cook(4) #先来4分钟的\n",
    "    print(mySweetPotato.cookedLevel)\n",
    "    print(mySweetPotato.cookedString)\n",
    "    print(mySweetPotato.condiments)\n",
    "    print(mySweetPotato)\n",
    "    \n",
    "        "
   ]
  }
 ],
 "metadata": {
  "kernelspec": {
   "display_name": "Python 2",
   "language": "python",
   "name": "python2"
  },
  "language_info": {
   "codemirror_mode": {
    "name": "ipython",
    "version": 2
   },
   "file_extension": ".py",
   "mimetype": "text/x-python",
   "name": "python",
   "nbconvert_exporter": "python",
   "pygments_lexer": "ipython2",
   "version": "2.7.12"
  }
 },
 "nbformat": 4,
 "nbformat_minor": 2
}
