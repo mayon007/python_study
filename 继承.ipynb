{
 "cells": [
  {
   "cell_type": "code",
   "execution_count": 10,
   "metadata": {},
   "outputs": [
    {
     "name": "stdout",
     "output_type": "stream",
     "text": [
      "----A----\n",
      "----test_base---\n",
      "(<class '__main__.C'>, <class '__main__.A'>, <class '__main__.B'>, <class '__main__.Base'>, <type 'object'>)\n",
      "---B---\n",
      "(<class '__main__.D'>, <class '__main__.B'>, <class '__main__.A'>, <class '__main__.Base'>, <type 'object'>)\n"
     ]
    }
   ],
   "source": [
    "#python 多继承\n",
    "#D,C 继承了 AB，AB继承Base，AB为单继承，DC为多继承 \n",
    "\n",
    "class Base(object):\n",
    "    def test(self):\n",
    "        print \"----base---\"\n",
    "    def test_base(self):\n",
    "        print \"----test_base---\"\n",
    "\n",
    "class A(Base):\n",
    "    def test(self):\n",
    "        print \"----A----\"\n",
    "    def test_A(self):\n",
    "        print \"----test_A----\"\n",
    "\n",
    "class B(Base):\n",
    "    def test(self):\n",
    "        print \"---B---\"\n",
    "    def test_B(self):\n",
    "        print \"---test_B---\"\n",
    "        \n",
    "class C(A,B):\n",
    "   # def test(self):\n",
    "   #     print \"C\"\n",
    "    pass\n",
    "\n",
    "c=C()\n",
    "c.test()\n",
    "c.test_base()\n",
    "print C.__mro__ #打印继承顺序\n",
    "\n",
    "class D(B,A):\n",
    "    def test_D(self):\n",
    "        print D.__mro__\n",
    "d = D()\n",
    "d.test()\n",
    "d.test_D()\n",
    "    "
   ]
  }
 ],
 "metadata": {
  "kernelspec": {
   "display_name": "Python 2",
   "language": "python",
   "name": "python2"
  },
  "language_info": {
   "codemirror_mode": {
    "name": "ipython",
    "version": 2
   },
   "file_extension": ".py",
   "mimetype": "text/x-python",
   "name": "python",
   "nbconvert_exporter": "python",
   "pygments_lexer": "ipython2",
   "version": "2.7.12"
  }
 },
 "nbformat": 4,
 "nbformat_minor": 2
}
